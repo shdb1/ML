{
  "metadata": {
    "kernelspec": {
      "display_name": "Python 3",
      "language": "python",
      "name": "python3"
    },
    "language_info": {
      "name": "python",
      "version": "3.10.14",
      "mimetype": "text/x-python",
      "codemirror_mode": {
        "name": "ipython",
        "version": 3
      },
      "pygments_lexer": "ipython3",
      "nbconvert_exporter": "python",
      "file_extension": ".py"
    },
    "kaggle": {
      "accelerator": "none",
      "dataSources": [
        {
          "sourceId": 10211,
          "databundleVersionId": 111096,
          "sourceType": "competition"
        },
        {
          "sourceId": 15520,
          "sourceType": "datasetVersion",
          "datasetId": 11167
        },
        {
          "sourceId": 38454,
          "sourceType": "datasetVersion",
          "datasetId": 2709
        }
      ],
      "isInternetEnabled": false,
      "language": "python",
      "sourceType": "notebook",
      "isGpuEnabled": false
    },
    "colab": {
      "name": "Exercise: Model Validation",
      "provenance": [],
      "include_colab_link": true
    }
  },
  "nbformat_minor": 0,
  "nbformat": 4,
  "cells": [
    {
      "cell_type": "markdown",
      "metadata": {
        "id": "view-in-github",
        "colab_type": "text"
      },
      "source": [
        "<a href=\"https://colab.research.google.com/github/shdb1/ML/blob/main/Exercise_Model_Validation.ipynb\" target=\"_parent\"><img src=\"https://colab.research.google.com/assets/colab-badge.svg\" alt=\"Open In Colab\"/></a>"
      ]
    },
    {
      "source": [
        "# IMPORTANT: SOME KAGGLE DATA SOURCES ARE PRIVATE\n",
        "# RUN THIS CELL IN ORDER TO IMPORT YOUR KAGGLE DATA SOURCES.\n",
        "import kagglehub\n",
        "kagglehub.login()\n"
      ],
      "metadata": {
        "id": "jainrBn0UdrO"
      },
      "cell_type": "code",
      "outputs": [],
      "execution_count": null
    },
    {
      "source": [
        "# IMPORTANT: RUN THIS CELL IN ORDER TO IMPORT YOUR KAGGLE DATA SOURCES,\n",
        "# THEN FEEL FREE TO DELETE THIS CELL.\n",
        "# NOTE: THIS NOTEBOOK ENVIRONMENT DIFFERS FROM KAGGLE'S PYTHON\n",
        "# ENVIRONMENT SO THERE MAY BE MISSING LIBRARIES USED BY YOUR\n",
        "# NOTEBOOK.\n",
        "\n",
        "home_data_for_ml_course_path = kagglehub.competition_download('home-data-for-ml-course')\n",
        "iabhishekofficial_mobile_price_classification_path = kagglehub.dataset_download('iabhishekofficial/mobile-price-classification')\n",
        "dansbecker_melbourne_housing_snapshot_path = kagglehub.dataset_download('dansbecker/melbourne-housing-snapshot')\n",
        "\n",
        "print('Data source import complete.')\n"
      ],
      "metadata": {
        "id": "4m9ZRPphUdrP"
      },
      "cell_type": "code",
      "outputs": [],
      "execution_count": null
    },
    {
      "cell_type": "markdown",
      "source": [
        "**This notebook is an exercise in the [Introduction to Machine Learning](https://www.kaggle.com/learn/intro-to-machine-learning) course.  You can reference the tutorial at [this link](https://www.kaggle.com/dansbecker/model-validation).**\n",
        "\n",
        "---\n"
      ],
      "metadata": {
        "id": "QTe5jjO7UdrQ"
      }
    },
    {
      "cell_type": "code",
      "source": [],
      "metadata": {
        "id": "QlCM-45FUkh4"
      },
      "execution_count": null,
      "outputs": []
    },
    {
      "cell_type": "markdown",
      "source": [
        "## Recap\n",
        "You've built a model. In this exercise you will test how good your model is.\n",
        "\n",
        "Run the cell below to set up your coding environment where the previous exercise left off."
      ],
      "metadata": {
        "id": "bkhSW6X6UdrR"
      }
    },
    {
      "cell_type": "code",
      "source": [
        "# Code you have previously used to load data\n",
        "import pandas as pd\n",
        "from sklearn.tree import DecisionTreeRegressor\n",
        "\n",
        "# Path of the file to read\n",
        "iowa_file_path = '../input/home-data-for-ml-course/train.csv'\n",
        "\n",
        "home_data = pd.read_csv(iowa_file_path)\n",
        "y = home_data.SalePrice\n",
        "feature_columns = ['LotArea', 'YearBuilt', '1stFlrSF', '2ndFlrSF', 'FullBath', 'BedroomAbvGr', 'TotRmsAbvGrd']\n",
        "X = home_data[feature_columns]\n",
        "\n",
        "# Specify Model\n",
        "iowa_model = DecisionTreeRegressor()\n",
        "# Fit Model\n",
        "iowa_model.fit(X, y)\n",
        "\n",
        "print(\"First in-sample predictions:\", iowa_model.predict(X.head()))\n",
        "print(\"Actual target values for those homes:\", y.head().tolist())\n",
        "\n",
        "# Set up code checking\n",
        "from learntools.core import binder\n",
        "binder.bind(globals())\n",
        "from learntools.machine_learning.ex4 import *\n",
        "print(\"Setup Complete\")"
      ],
      "metadata": {
        "trusted": true,
        "execution": {
          "iopub.status.busy": "2024-11-23T13:21:31.691508Z",
          "iopub.execute_input": "2024-11-23T13:21:31.691928Z",
          "iopub.status.idle": "2024-11-23T13:21:32.492528Z",
          "shell.execute_reply.started": "2024-11-23T13:21:31.691872Z",
          "shell.execute_reply": "2024-11-23T13:21:32.491238Z"
        },
        "id": "S__6EbXyUdrR"
      },
      "outputs": [],
      "execution_count": null
    },
    {
      "cell_type": "markdown",
      "source": [
        "# Exercises\n",
        "\n",
        "## Step 1: Split Your Data\n",
        "Use the `train_test_split` function to split up your data.\n",
        "\n",
        "Give it the argument `random_state=1` so the `check` functions know what to expect when verifying your code.\n",
        "\n",
        "Recall, your features are loaded in the DataFrame **X** and your target is loaded in **y**.\n"
      ],
      "metadata": {
        "id": "4-Q7mDaYUdrR"
      }
    },
    {
      "cell_type": "code",
      "source": [
        "# Import the train_test_split function and uncomment\n",
        "from sklearn.model_selection import train_test_split\n",
        " # fill in and uncomment\n",
        "train_X, val_X , train_y, val_y = train_test_split(X, y, random_state=1)\n",
        "# Check your answer\n",
        "step_1.check()"
      ],
      "metadata": {
        "trusted": true,
        "execution": {
          "iopub.status.busy": "2024-11-23T13:25:12.581295Z",
          "iopub.execute_input": "2024-11-23T13:25:12.581656Z",
          "iopub.status.idle": "2024-11-23T13:25:12.599519Z",
          "shell.execute_reply.started": "2024-11-23T13:25:12.581623Z",
          "shell.execute_reply": "2024-11-23T13:25:12.598322Z"
        },
        "id": "yH-RQEzNUdrR"
      },
      "outputs": [],
      "execution_count": null
    },
    {
      "cell_type": "code",
      "source": [
        "# The lines below will show you a hint or the solution.\n",
        "# step_1.hint()\n",
        "# step_1.solution()\n"
      ],
      "metadata": {
        "trusted": true,
        "execution": {
          "iopub.status.busy": "2024-11-23T13:23:20.62759Z",
          "iopub.execute_input": "2024-11-23T13:23:20.628041Z",
          "iopub.status.idle": "2024-11-23T13:23:20.651572Z",
          "shell.execute_reply.started": "2024-11-23T13:23:20.627979Z",
          "shell.execute_reply": "2024-11-23T13:23:20.649988Z"
        },
        "id": "igHphxX-UdrR"
      },
      "outputs": [],
      "execution_count": null
    },
    {
      "cell_type": "markdown",
      "source": [
        "## Step 2: Specify and Fit the Model\n",
        "\n",
        "Create a `DecisionTreeRegressor` model and fit it to the relevant data.\n",
        "Set `random_state` to 1 again when creating the model."
      ],
      "metadata": {
        "id": "OE8pwYYRUdrR"
      }
    },
    {
      "cell_type": "code",
      "source": [
        "# You imported DecisionTreeRegressor in your last exercise\n",
        "# and that code has been copied to the setup code above. So, no need to\n",
        "# import it again\n",
        "\n",
        "# Specify the model\n",
        "iowa_model = DecisionTreeRegressor(random_state=1)\n",
        "iowa_model.fit(train_X, train_y)\n",
        "\n",
        "# Fit iowa_model with the training data.\n",
        "____\n",
        "\n",
        "# Check your answer\n",
        "step_2.check()"
      ],
      "metadata": {
        "trusted": true,
        "execution": {
          "iopub.status.busy": "2024-11-23T13:27:34.777322Z",
          "iopub.execute_input": "2024-11-23T13:27:34.777699Z",
          "iopub.status.idle": "2024-11-23T13:27:34.808653Z",
          "shell.execute_reply.started": "2024-11-23T13:27:34.777664Z",
          "shell.execute_reply": "2024-11-23T13:27:34.807459Z"
        },
        "id": "T9nkpmI4UdrR"
      },
      "outputs": [],
      "execution_count": null
    },
    {
      "cell_type": "code",
      "source": [
        "step_2.hint()\n",
        "step_2.solution()"
      ],
      "metadata": {
        "trusted": true,
        "execution": {
          "iopub.status.busy": "2024-11-23T13:27:20.503097Z",
          "iopub.execute_input": "2024-11-23T13:27:20.503497Z",
          "iopub.status.idle": "2024-11-23T13:27:20.517001Z",
          "shell.execute_reply.started": "2024-11-23T13:27:20.503456Z",
          "shell.execute_reply": "2024-11-23T13:27:20.515759Z"
        },
        "id": "FdQf9yPeUdrR"
      },
      "outputs": [],
      "execution_count": null
    },
    {
      "cell_type": "markdown",
      "source": [
        "## Step 3: Make Predictions with Validation data\n"
      ],
      "metadata": {
        "id": "s9qzP6suUdrR"
      }
    },
    {
      "cell_type": "code",
      "source": [
        "# Predict with all validation observations\n",
        "val_predictions = iowa_model.predict(val_X)\n",
        "\n",
        "# Check your answer\n",
        "step_3.check()"
      ],
      "metadata": {
        "trusted": true,
        "execution": {
          "iopub.status.busy": "2024-11-23T13:28:09.452178Z",
          "iopub.execute_input": "2024-11-23T13:28:09.452587Z",
          "iopub.status.idle": "2024-11-23T13:28:09.465805Z",
          "shell.execute_reply.started": "2024-11-23T13:28:09.45255Z",
          "shell.execute_reply": "2024-11-23T13:28:09.46446Z"
        },
        "id": "PFyzlBA4UdrS"
      },
      "outputs": [],
      "execution_count": null
    },
    {
      "cell_type": "code",
      "source": [
        "step_3.hint()\n",
        "step_3.solution()"
      ],
      "metadata": {
        "trusted": true,
        "execution": {
          "iopub.status.busy": "2024-11-23T13:27:56.557181Z",
          "iopub.execute_input": "2024-11-23T13:27:56.557574Z",
          "iopub.status.idle": "2024-11-23T13:27:56.573081Z",
          "shell.execute_reply.started": "2024-11-23T13:27:56.557536Z",
          "shell.execute_reply": "2024-11-23T13:27:56.571842Z"
        },
        "id": "h8cNqbOXUdrS"
      },
      "outputs": [],
      "execution_count": null
    },
    {
      "cell_type": "markdown",
      "source": [
        "Inspect your predictions and actual values from validation data."
      ],
      "metadata": {
        "id": "wGYHQkNcUdrS"
      }
    },
    {
      "cell_type": "code",
      "source": [
        "# print the top few validation predictions\n",
        "print(val_predictions)\n",
        "# print the top few actual prices from validation data\n",
        "print(val_predictions)"
      ],
      "metadata": {
        "trusted": true,
        "execution": {
          "iopub.status.busy": "2024-11-23T13:29:09.537201Z",
          "iopub.execute_input": "2024-11-23T13:29:09.537611Z",
          "iopub.status.idle": "2024-11-23T13:29:09.548631Z",
          "shell.execute_reply.started": "2024-11-23T13:29:09.537572Z",
          "shell.execute_reply": "2024-11-23T13:29:09.547424Z"
        },
        "collapsed": true,
        "jupyter": {
          "outputs_hidden": true
        },
        "id": "p8pFFbVhUdrS"
      },
      "outputs": [],
      "execution_count": null
    },
    {
      "cell_type": "markdown",
      "source": [
        "What do you notice that is different from what you saw with in-sample predictions (which are printed after the top code cell in this page).\n",
        "\n",
        "Do you remember why validation predictions differ from in-sample (or training) predictions? This is an important idea from the last lesson.\n",
        "\n",
        "## Step 4: Calculate the Mean Absolute Error in Validation Data\n"
      ],
      "metadata": {
        "id": "fNXley9sUdrS"
      }
    },
    {
      "cell_type": "code",
      "source": [
        "from sklearn.metrics import mean_absolute_error\n",
        "\n",
        "val_mae = mean_absolute_error(val_y, val_predictions)\n",
        "\n",
        "# uncomment following line to see the validation_mae\n",
        "print(val_mae)\n",
        "\n",
        "# Check your answer\n",
        "step_4.check()"
      ],
      "metadata": {
        "trusted": true,
        "execution": {
          "iopub.status.busy": "2024-11-23T13:31:33.618208Z",
          "iopub.execute_input": "2024-11-23T13:31:33.618575Z",
          "iopub.status.idle": "2024-11-23T13:31:33.630744Z",
          "shell.execute_reply.started": "2024-11-23T13:31:33.618542Z",
          "shell.execute_reply": "2024-11-23T13:31:33.629369Z"
        },
        "id": "CnRvgTShUdrS"
      },
      "outputs": [],
      "execution_count": null
    },
    {
      "cell_type": "code",
      "source": [
        "step_4.hint()\n",
        "step_4.solution()"
      ],
      "metadata": {
        "trusted": true,
        "execution": {
          "iopub.status.busy": "2024-11-23T13:31:50.380046Z",
          "iopub.execute_input": "2024-11-23T13:31:50.380435Z",
          "iopub.status.idle": "2024-11-23T13:31:50.395469Z",
          "shell.execute_reply.started": "2024-11-23T13:31:50.380399Z",
          "shell.execute_reply": "2024-11-23T13:31:50.39438Z"
        },
        "id": "IOJxWS3qUdrS"
      },
      "outputs": [],
      "execution_count": null
    },
    {
      "cell_type": "markdown",
      "source": [
        "Is that MAE good?  There isn't a general rule for what values are good that applies across applications. But you'll see how to use (and improve) this number in the next step.\n",
        "\n",
        "# Keep Going\n",
        "\n",
        "You are ready for **[Underfitting and Overfitting](https://www.kaggle.com/dansbecker/underfitting-and-overfitting).**\n"
      ],
      "metadata": {
        "id": "FdcGVi__UdrS"
      }
    },
    {
      "cell_type": "markdown",
      "source": [
        "---\n",
        "\n",
        "\n",
        "\n",
        "\n",
        "*Have questions or comments? Visit the [course discussion forum](https://www.kaggle.com/learn/intro-to-machine-learning/discussion) to chat with other learners.*"
      ],
      "metadata": {
        "id": "bHcTMTHsUdrS"
      }
    }
  ]
}